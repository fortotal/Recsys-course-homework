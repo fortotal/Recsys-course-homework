{
 "cells": [
  {
   "cell_type": "code",
   "execution_count": 1,
   "id": "ae8a9afc",
   "metadata": {},
   "outputs": [],
   "source": [
    "from src.utils import prepare_dateframe\n",
    "from src.config import config"
   ]
  },
  {
   "cell_type": "markdown",
   "id": "38a1ad60",
   "metadata": {},
   "source": [
    "## Анализ данных"
   ]
  },
  {
   "cell_type": "code",
   "execution_count": 2,
   "id": "665c09c8",
   "metadata": {},
   "outputs": [],
   "source": [
    "import pandas as pd\n",
    "import numpy as np\n",
    "import matplotlib.pyplot as plt"
   ]
  },
  {
   "cell_type": "code",
   "execution_count": 4,
   "id": "1713d344",
   "metadata": {},
   "outputs": [],
   "source": [
    "analyze_df = pd.read_csv(config.data_path)"
   ]
  },
  {
   "cell_type": "code",
   "execution_count": 11,
   "id": "bdf9d97e",
   "metadata": {},
   "outputs": [],
   "source": [
    "click_dict = dict(zip(*np.unique(analyze_df.clicks.values, return_counts=True)))"
   ]
  },
  {
   "cell_type": "code",
   "execution_count": 28,
   "id": "e10a195f",
   "metadata": {},
   "outputs": [
    {
     "data": {
      "text/plain": [
       "<matplotlib.legend.Legend at 0x7f0d913a5d30>"
      ]
     },
     "execution_count": 28,
     "metadata": {},
     "output_type": "execute_result"
    },
    {
     "data": {
      "image/png": "[encoded data removed]",
      "text/plain": [
       "<Figure size 720x576 with 1 Axes>"
      ]
     },
     "metadata": {
      "needs_background": "light"
     },
     "output_type": "display_data"
    }
   ],
   "source": [
    "plt.figure(figsize=(10, 8))\n",
    "plt.bar(click_dict.keys(), click_dict.values(), color=['g', 'r'])\n",
    "plt.legend(['Не кликнули', 'Кликнули'])"
   ]
  },
  {
   "cell_type": "markdown",
   "id": "1dc35680",
   "metadata": {},
   "source": [
    "Здесь мы видим явное преобладание тех, кто не кликнул над теми, кто это сделал, в целом логично, люди редко кликают в баннер."
   ]
  },
  {
   "cell_type": "markdown",
   "id": "cf7c080c",
   "metadata": {},
   "source": [
    "Дальше сразу бросается в глаза, то, что есть такая \"чудная\" колонка как показ(impressions). В целом еще до тренировки модели, я могу сказать, что нет показа -> нет клика, хорошая фича, однако полезная ли?"
   ]
  },
  {
   "cell_type": "code",
   "execution_count": 32,
   "id": "f1f489cb",
   "metadata": {},
   "outputs": [
    {
     "name": "stdout",
     "output_type": "stream",
     "text": [
      "[1]\n"
     ]
    }
   ],
   "source": [
    "print(np.unique(analyze_df.impressions))"
   ]
  },
  {
   "cell_type": "markdown",
   "id": "de5a4507",
   "metadata": {},
   "source": [
    "Как видим в данном столбце значения только единичные. Поэтому этот параметр можно удалять сразу, потому-что ничего полезного он в себе не несет"
   ]
  },
  {
   "cell_type": "markdown",
   "id": "3c469d00",
   "metadata": {},
   "source": [
    "Дальше давайте посмотрим на пропуски"
   ]
  },
  {
   "cell_type": "code",
   "execution_count": 35,
   "id": "eba27322",
   "metadata": {},
   "outputs": [
    {
     "data": {
      "text/plain": [
       "date_time              0\n",
       "zone_id                0\n",
       "banner_id              0\n",
       "oaid_hash              0\n",
       "campaign_clicks        0\n",
       "os_id                  0\n",
       "country_id             0\n",
       "banner_id0             0\n",
       "rate0                 69\n",
       "g0                    69\n",
       "coeff_sum0            69\n",
       "banner_id1             0\n",
       "rate1              19744\n",
       "g1                 19744\n",
       "coeff_sum1         19744\n",
       "impressions            0\n",
       "clicks                 0\n",
       "dtype: int64"
      ]
     },
     "execution_count": 35,
     "metadata": {},
     "output_type": "execute_result"
    }
   ],
   "source": [
    "analyze_df.isna().sum()"
   ]
  },
  {
   "cell_type": "markdown",
   "id": "2269409a",
   "metadata": {},
   "source": [
    "Cразу видно, что пропуски присутствуют только в тех значениях, которыми нам сказали в рамках этой дз не использовать. Нам же лучше, не надо думать каким образом эти данные заполнять"
   ]
  },
  {
   "cell_type": "markdown",
   "id": "2adbc6a2",
   "metadata": {},
   "source": [
    "Дальше давайте посмотрим сколько вообще в каждом столбце уникальных значений. Предварительно наконец удалив \"лишние\" параметры"
   ]
  },
  {
   "cell_type": "code",
   "execution_count": 37,
   "id": "e8ab5b38",
   "metadata": {},
   "outputs": [],
   "source": [
    "analyze_df.drop([\n",
    "        'oaid_hash',\n",
    "        'banner_id0',\n",
    "        'banner_id1',\n",
    "        'rate0',\n",
    "        'rate1',\n",
    "        'g0',\n",
    "        'g1',\n",
    "        'coeff_sum0',\n",
    "        'coeff_sum1'\n",
    "], inplace=True, axis=1)"
   ]
  },
  {
   "cell_type": "markdown",
   "id": "9359b695",
   "metadata": {},
   "source": [
    "Естественно, что мы не будем смотреть на уникальность значения в столбце дата, с ним мы разберемся позже."
   ]
  },
  {
   "cell_type": "code",
   "execution_count": 40,
   "id": "435f2c72",
   "metadata": {
    "scrolled": true
   },
   "outputs": [
    {
     "name": "stdout",
     "output_type": "stream",
     "text": [
      "os_id, unique value length = 11\n",
      "clicks, unique value length = 2\n",
      "zone_id, unique value length = 3444\n",
      "banner_id, unique value length = 1633\n",
      "campaign_clicks, unique value length = 822\n",
      "impressions, unique value length = 1\n",
      "country_id, unique value length = 17\n"
     ]
    }
   ],
   "source": [
    "for column in set(analyze_df.columns) - {'date_time'}:\n",
    "    print(f\"{column}, unique value length = {len(np.unique(analyze_df[column]))}\")"
   ]
  },
  {
   "cell_type": "markdown",
   "id": "71048496",
   "metadata": {},
   "source": [
    "Смотря на эти числа возникает желание объединить zone_id, banner_id и тд в более крупные группы. Но погуглив, не нахожу ничего, чтобы могло мне в этом помочь. От идеи отказываюсь "
   ]
  },
  {
   "cell_type": "markdown",
   "id": "d33e3766",
   "metadata": {},
   "source": [
    "Единственная в данном случае не категорильная фича - campaign_clicks. Давайте рассмотрим ее поподробнее"
   ]
  },
  {
   "cell_type": "code",
   "execution_count": 64,
   "id": "ca8ea64c",
   "metadata": {},
   "outputs": [
    {
     "data": {
      "text/plain": [
       "0.8648027187356524"
      ]
     },
     "execution_count": 64,
     "metadata": {},
     "output_type": "execute_result"
    }
   ],
   "source": [
    "np.sum(analyze_df.campaign_clicks == 0) / len(analyze_df)"
   ]
  },
  {
   "cell_type": "code",
   "execution_count": 66,
   "id": "cdc5fdad",
   "metadata": {},
   "outputs": [
    {
     "data": {
      "text/plain": [
       "7.0"
      ]
     },
     "execution_count": 66,
     "metadata": {},
     "output_type": "execute_result"
    }
   ],
   "source": [
    "np.quantile(analyze_df.campaign_clicks.values, 0.99)"
   ]
  },
  {
   "cell_type": "code",
   "execution_count": 67,
   "id": "8f7d7e80",
   "metadata": {},
   "outputs": [
    {
     "data": {
      "text/plain": [
       "829"
      ]
     },
     "execution_count": 67,
     "metadata": {},
     "output_type": "execute_result"
    }
   ],
   "source": [
    "np.max(analyze_df.campaign_clicks)"
   ]
  },
  {
   "cell_type": "markdown",
   "id": "82affe0d",
   "metadata": {},
   "source": [
    "Что мы видим? В 86% случаев значение в целом 0. 0.99 квантиль 0.7, при этом максимум 829. Может возникнуть желание как-то разбить этот параметр, но от этой идеи тоже отказываюсь. Из-за того, что мы не смогли раздобыть осмысленного описания фичей  banner_id, zone_id. Группировка значения в 5 раз меньшего, вряд ли имеет особый смысл."
   ]
  },
  {
   "cell_type": "markdown",
   "id": "6060109a",
   "metadata": {},
   "source": [
    "Итак, что мы видим? Параметры, которые нами почти не описываются, бесполезный параметр impression, + одно числовое значение campaign_clicks. Нам надо выдумывать фичи, однако перед этим нам надо как-то привести все параметры в таблице. Использовать One-hot нет никакого желания. Данных итак много и мне приходится их сэмплировать, чтобы не вылетала ошибка по памяти. Предлагаю заменить значения в таблице средней вероятностью клика при параметре. Пример: country_id = 2 мы заменим числом, которое отображает кол-во кликнувших в стране с country_id равным 2 на количество всех представителей страны с country_id равным 2."
   ]
  },
  {
   "cell_type": "markdown",
   "id": "77346f12",
   "metadata": {},
   "source": [
    "Также мы видим, что фичей мало и мы хотим добавить еще фичей. Давайте перед этим разобьем параметры на те, которые относятся к юзеру и на те, которые относятся к рекламе."
   ]
  },
  {
   "cell_type": "markdown",
   "id": "58669aa6",
   "metadata": {},
   "source": [
    "Для удобства распечатаем их еще раз"
   ]
  },
  {
   "cell_type": "code",
   "execution_count": 69,
   "id": "ed6f5468",
   "metadata": {},
   "outputs": [
    {
     "data": {
      "text/plain": [
       "Index(['date_time', 'zone_id', 'banner_id', 'campaign_clicks', 'os_id',\n",
       "       'country_id', 'impressions', 'clicks'],\n",
       "      dtype='object')"
      ]
     },
     "execution_count": 69,
     "metadata": {},
     "output_type": "execute_result"
    }
   ],
   "source": [
    "analyze_df.columns"
   ]
  },
  {
   "cell_type": "markdown",
   "id": "212c5086",
   "metadata": {},
   "source": [
    "Давайте начнем с очевидного, таргет - clicks. Удаляем - impressions.\n",
    "\n",
    "Относятся к игроку:\n",
    "\n",
    "    - campaign_clicks (число показов юзеру)\n",
    "    \n",
    "    - country_id (страна из которой юзер)\n",
    "    \n",
    "    - os_id (ОС юзера)\n",
    "\n",
    "Относятся к баннеру:\n",
    "\n",
    "    - zone_id (место нахождения баннера)\n",
    "    \n",
    "    - banner_id (че за баннер то вообще)\n",
    "    \n",
    "Что сразу бросается в глаза? Мы нигде не использовали date_time. Во-первых мы будем использовать этот параметр для разбиения, как мы помним из задания, мы должны провалидировать нашу модель на последнем дне из датасета. Я предлагаю вытащить еще такие параметры как час и день недели. Можно придумать очень много жизненных примеров про то, что  вероятность клика зависит от времени суток или дня недели, например в 19 вечера по будням, мы вероятнее в метро, чем в 19 вечера воскресенья, а в метро мы не любим ходить по ссылкам, так как интернет слабый. Таких примеров много, мы на них останавливаться не будем, просто будем чувствовать, что фича по времени может быть полезной - давайте ее оставим. И соответсвенно новые фичи, которые тоже относятся к юзеру:\n",
    "\n",
    "    - hour\n",
    "    - weekday\n",
    "\n",
    "Теперь давайте на основе этих разбиений и каких-то наших знаниях о мире, нагенерим еще фичей."
   ]
  },
  {
   "cell_type": "markdown",
   "id": "3db267b0",
   "metadata": {},
   "source": [
    "Заполнять значения в таблице мы будем по тому же принципу, что и раньше, мы будем считать вероятность клика при выполнении условий, но теперь не одного, а несколько, например какова вероятность клика из страны с id 40 в воскресенье, это, кстати, в теории может быть важная фича, предполагаю, что траффик из Израиля по субботам например падает."
   ]
  },
  {
   "cell_type": "code",
   "execution_count": null,
   "id": "5ed27e5d",
   "metadata": {},
   "outputs": [],
   "source": [
    "{\n",
    "    'features': ['hours', 'country_id'],\n",
    "    'feature_name': 'per_hours_country',\n",
    "},\n",
    "{\n",
    "    'features': ['os_id', 'country_id'],\n",
    "    'feature_name': 'per_os_country',\n",
    "},\n",
    "{\n",
    "    'features': ['weekday', 'hours'],\n",
    "    'feature_name': 'per_weekday_hours',\n",
    "},\n",
    "{\n",
    "    'features': ['weekday', 'country_id'],\n",
    "    'feature_name': 'per_weekday_country',\n",
    "},\n",
    "{\n",
    "    'features': ['weekday', 'country_id', 'hours'],\n",
    "    'feature_name': 'per_weekday_country_hours',\n",
    "},\n",
    "pass"
   ]
  },
  {
   "cell_type": "markdown",
   "id": "13061a4e",
   "metadata": {},
   "source": [
    "Сверху можно увидеть блок кода, но я хочу, чтобы вы воспринимали его как текст. Здесь суть отображены те фичи, которые я генерил парами. То есть выбирал все возможные пары и тройки и считал для них вероятности клика.\n",
    "\n",
    "- hours и country_id я не нашел информации как сочетаются страные и часы, возможно все время записано в терминах Гринвича, поэтому добавил эту фичу, чтобы как-то развести страны по часовым поясам\n",
    "\n",
    "- os_id, country_id предполагаю, что есть страны, с которых в основном течет траффик ботов, думаю, что os у этих ботов всегда +- одинаковая, поэтому решил добавить эту фичу, так как она может вероятно указать на того, кто перед нами\n",
    "\n",
    "- weekday и hours в разные дни мы по разному пользуемся телефоном и интернетом\n",
    "\n",
    "- weekday, country_id в разных странах разные выходны и будни, например Британцы если верить слухам, отдыхают вечером в четверг, а не по пятницам, мб после бара люди кликают в баннера чаще, а мб реже\n",
    "\n",
    "- weekday, country_id, hours +- тоже самое, что предыдущая фича, но мб час улучшит ситуация\n",
    "\n",
    "- zone_id и country_id в разных странах разных пользовательский опыт, кто-то всю дорогу пользовался вк, а кто-то фейсбуком, возможно мы привыкли смотреть в разные части экрана и как следствие замечать или нет баннера. Но(!) эту фичу я убрал по итогу, она мне честно нравилась, но с ней данные готовились бы час, а мне жалко того, кто будет запускать этот ноутбук"
   ]
  },
  {
   "cell_type": "markdown",
   "id": "fd6ff40b",
   "metadata": {},
   "source": [
    "На этом анализ закончен, перехом к тренировке модели и оценке результатов"
   ]
  },
  {
   "cell_type": "markdown",
   "id": "abc943be",
   "metadata": {},
   "source": [
    "## Тренировка"
   ]
  },
  {
   "cell_type": "code",
   "execution_count": 3,
   "id": "cbaa8f12",
   "metadata": {},
   "outputs": [],
   "source": [
    "from sklearn.linear_model import LogisticRegression\n",
    "from sklearn.metrics import log_loss, roc_auc_score\n",
    "from sklearn.preprocessing import StandardScaler\n",
    "from sklearn.model_selection import RandomizedSearchCV\n",
    "from sklearn.ensemble import RandomForestClassifier"
   ]
  },
  {
   "cell_type": "markdown",
   "id": "12f28aad",
   "metadata": {},
   "source": [
    "### Читаем и \"готовим\" датасет (относительно долгий процесс). Для выполнения ДЗ использовал sample, потому-что не мог переварить весь объем данных "
   ]
  },
  {
   "cell_type": "code",
   "execution_count": 4,
   "id": "4d38f4c7",
   "metadata": {},
   "outputs": [
    {
     "name": "stderr",
     "output_type": "stream",
     "text": [
      "Features in process:  50%|█████     | 6/12 [06:04<06:22, 63.80s/it]/home/stepankutsenogy/recsys_course/src/utils.py:32: RuntimeWarning: invalid value encountered in long_scalars\n",
      "  transform_dict[values] = np.sum(tmp_df.clicks) / len(tmp_df)\n",
      "Features in process: 100%|██████████| 12/12 [18:25<00:00, 92.14s/it] \n"
     ]
    }
   ],
   "source": [
    "train_df, test_df = prepare_dateframe(config)"
   ]
  },
  {
   "cell_type": "markdown",
   "id": "14cd9fbf",
   "metadata": {},
   "source": [
    "Отмечу сразу, что все параметры подбирал по валидации в процессе, когда делал дз, но так как задача стоит оценить модели на конкретном дне, здесь для краткости все эти моменты я опущу, скажу лишь, что в валидации данных с последнего дня не было. "
   ]
  },
  {
   "cell_type": "code",
   "execution_count": 45,
   "id": "264c879b",
   "metadata": {},
   "outputs": [],
   "source": [
    "x_train = train_df.drop(['clicks'], axis=1)\n",
    "y_train = train_df['clicks'].values\n",
    "\n",
    "x_test = test_df.drop(['clicks'], axis=1)\n",
    "y_test = test_df['clicks'].values\n",
    "\n",
    "scaler = StandardScaler()\n",
    "x_train = scaler.fit_transform(x_train)\n",
    "x_test = scaler.transform(x_test)"
   ]
  },
  {
   "cell_type": "code",
   "execution_count": 46,
   "id": "3b45763c",
   "metadata": {},
   "outputs": [],
   "source": [
    "logreg = LogisticRegression(\n",
    "    max_iter=5000,\n",
    "    random_state=42,\n",
    ")\n",
    "\n",
    "\n",
    "\n",
    "linreg_grid_params = {\n",
    "    'tol': [0, 1e-1, 1e-2, 1e-3, 1e-4],\n",
    "    'C': [0, 0.5, 1, 2, 5],\n",
    "    'class_weight': [None, 'balanced'],\n",
    "}\n",
    "\n",
    "\n",
    "logreg_random = RandomizedSearchCV(\n",
    "    estimator=logreg,\n",
    "    scoring='neg_log_loss',\n",
    "    param_distributions = linreg_grid_params,\n",
    "    n_iter=20,\n",
    "    cv=3,\n",
    "    verbose=10,\n",
    "    random_state=config.random_state,\n",
    "    n_jobs=-1,\n",
    ")"
   ]
  },
  {
   "cell_type": "code",
   "execution_count": 47,
   "id": "e757cd0c",
   "metadata": {},
   "outputs": [
    {
     "name": "stdout",
     "output_type": "stream",
     "text": [
      "Fitting 3 folds for each of 20 candidates, totalling 60 fits\n"
     ]
    },
    {
     "name": "stderr",
     "output_type": "stream",
     "text": [
      "/home/stepankutsenogy/MainWork/ltv_env/lib/python3.8/site-packages/sklearn/model_selection/_search.py:922: UserWarning: One or more of the test scores are non-finite: [-0.10905967 -0.59259745 -0.10905976 -0.59259753 -0.59259707 -0.59259753\n",
      " -0.59259733 -0.59259733 -0.10905976 -0.59259707 -0.10905967         nan\n",
      " -0.59259745         nan         nan         nan -0.10905977 -0.59259753\n",
      " -0.59259753 -0.59259707]\n",
      "  warnings.warn(\n"
     ]
    },
    {
     "data": {
      "text/plain": [
       "RandomizedSearchCV(cv=3,\n",
       "                   estimator=LogisticRegression(max_iter=5000, random_state=42),\n",
       "                   n_iter=20, n_jobs=-1,\n",
       "                   param_distributions={'C': [0, 0.5, 1, 2, 5],\n",
       "                                        'class_weight': [None, 'balanced'],\n",
       "                                        'tol': [0, 0.1, 0.01, 0.001, 0.0001]},\n",
       "                   random_state=42, scoring='neg_log_loss', verbose=10)"
      ]
     },
     "execution_count": 47,
     "metadata": {},
     "output_type": "execute_result"
    }
   ],
   "source": [
    "logreg_random.fit(x_train, y_train)"
   ]
  },
  {
   "cell_type": "code",
   "execution_count": 50,
   "id": "636f9d21",
   "metadata": {},
   "outputs": [
    {
     "data": {
      "text/plain": [
       "0.13529389012325146"
      ]
     },
     "execution_count": 50,
     "metadata": {},
     "output_type": "execute_result"
    }
   ],
   "source": [
    "log_loss(y_test, logreg_random.predict_proba(x_test)[:, 1])"
   ]
  },
  {
   "cell_type": "code",
   "execution_count": 51,
   "id": "174c60cb",
   "metadata": {},
   "outputs": [
    {
     "data": {
      "text/plain": [
       "0.1536656158996821"
      ]
     },
     "execution_count": 51,
     "metadata": {},
     "output_type": "execute_result"
    }
   ],
   "source": [
    "log_loss(y_test, [(1-y_train.mean(), y_train.mean())] * len(y_test))"
   ]
  },
  {
   "cell_type": "markdown",
   "id": "a908c61e",
   "metadata": {},
   "source": [
    "Я хочу отметить, что здесь мы \"превзошли\" тот критерий, который писали в чате, но признаться честно, мне она не очень нравится, давайте объясню почему, в целом как говорилось на лекции, задача рекомендации это во много задача ранжирования, те мы должны примеры правильно упорядочить, с упорядочением по аналогии приходит метрика roc_auc. Давайте лучше взглянем на нее."
   ]
  },
  {
   "cell_type": "code",
   "execution_count": 55,
   "id": "dab36d94",
   "metadata": {},
   "outputs": [
    {
     "data": {
      "text/plain": [
       "0.7686553017442452"
      ]
     },
     "execution_count": 55,
     "metadata": {},
     "output_type": "execute_result"
    }
   ],
   "source": [
    "roc_auc_score(y_test, logreg_random.predict_proba(x_test)[:, 1])"
   ]
  },
  {
   "cell_type": "markdown",
   "id": "a4a605e6",
   "metadata": {},
   "source": [
    "Здесь мы видим, что 77% пар упорядоченно правильно. В целом, если подобрать порог, то получили \"приемлимый\" классификатор"
   ]
  }
 ],
 "metadata": {
  "kernelspec": {
   "display_name": "Python 3",
   "language": "python",
   "name": "python3"
  },
  "language_info": {
   "codemirror_mode": {
    "name": "ipython",
    "version": 3
   },
   "file_extension": ".py",
   "mimetype": "text/x-python",
   "name": "python",
   "nbconvert_exporter": "python",
   "pygments_lexer": "ipython3",
   "version": "3.8.10"
  }
 },
 "nbformat": 4,
 "nbformat_minor": 5
}
