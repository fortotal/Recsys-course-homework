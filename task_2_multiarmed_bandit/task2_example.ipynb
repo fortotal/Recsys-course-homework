{
 "cells": [
  {
   "cell_type": "code",
   "execution_count": 3,
   "metadata": {},
   "outputs": [],
   "source": [
    "import numpy as np\n",
    "import pandas as pd\n",
    "import time\n",
    "\n",
    "from functools import partial\n",
    "from scipy.stats import randint, uniform\n",
    "from sim_lib import simulation\n",
    "\n",
    "pd.options.mode.chained_assignment = None\n"
   ]
  },
  {
   "cell_type": "code",
   "execution_count": 4,
   "metadata": {},
   "outputs": [],
   "source": [
    "def eps_greedy(history: pd.DataFrame, eps: float):\n",
    "    if uniform.rvs() < eps:\n",
    "        n = history.shape[0]\n",
    "        return history.index[randint.rvs(0, n)]\n",
    "\n",
    "    ctr = history['clicks'] / (history['impressions'] + 10)\n",
    "    n = np.argmax(ctr)\n",
    "    return history.index[n]\n",
    "\n",
    "policy = partial(eps_greedy, eps=0.08)"
   ]
  },
  {
   "cell_type": "code",
   "execution_count": 5,
   "metadata": {},
   "outputs": [],
   "source": [
    "def bernouli_strategy(history: pd.DataFrame, k: int = 1, n: int = 5):\n",
    "    bets = np.random.beta(history['clicks'] + k, history['impressions'] - history['clicks'] + n)\n",
    "    return history.index[np.argmax(bets)]"
   ]
  },
  {
   "cell_type": "code",
   "execution_count": 68,
   "metadata": {},
   "outputs": [],
   "source": [
    "class UCB_strategy:\n",
    "    def __init__(self):\n",
    "        self.time_stamp = 0\n",
    "        \n",
    "    def __call__(self, history: pd.DataFrame):\n",
    "        self.time_stamp += 1\n",
    "        log_t = np.sqrt(2 * np.log(self.time_stamp) / (history['impressions'] + 1)) \n",
    "        bets = (history['clicks'] + 1) / (history['impressions'] + 1) + log_t\n",
    "        return history.index[np.argmax(bets)]\n"
   ]
  },
  {
   "cell_type": "code",
   "execution_count": 81,
   "metadata": {},
   "outputs": [
    {
     "name": "stdout",
     "output_type": "stream",
     "text": [
      "1 impressions have been simulated\n",
      "10001 impressions have been simulated\n",
      "20001 impressions have been simulated\n",
      "30001 impressions have been simulated\n",
      "40001 impressions have been simulated\n",
      "50001 impressions have been simulated\n",
      "60001 impressions have been simulated\n",
      "70001 impressions have been simulated\n",
      "80001 impressions have been simulated\n",
      "90001 impressions have been simulated\n",
      "100001 impressions have been simulated\n",
      "110001 impressions have been simulated\n",
      "120001 impressions have been simulated\n",
      "130001 impressions have been simulated\n",
      "140001 impressions have been simulated\n",
      "150001 impressions have been simulated\n",
      "160001 impressions have been simulated\n",
      "170001 impressions have been simulated\n",
      "180001 impressions have been simulated\n",
      "190001 impressions have been simulated\n"
     ]
    },
    {
     "data": {
      "text/plain": [
       "374.4513592720032"
      ]
     },
     "execution_count": 81,
     "metadata": {},
     "output_type": "execute_result"
    }
   ],
   "source": [
    "# seed for homework\n",
    "np.random.seed(seed=384758917)\n",
    "\n",
    "start = time.time()\n",
    "output = simulation(policy, n=200000)\n",
    "end = time.time()\n",
    "end - start"
   ]
  },
  {
   "cell_type": "code",
   "execution_count": 82,
   "metadata": {},
   "outputs": [
    {
     "data": {
      "text/plain": [
       "(2792.237649427154, 0.01396118824713577, 174)"
      ]
     },
     "execution_count": 82,
     "metadata": {},
     "output_type": "execute_result"
    }
   ],
   "source": [
    "# baseline regret\n",
    "output['regret'], output['regret']/output['rounds'],  output['total_banners']"
   ]
  },
  {
   "cell_type": "code",
   "execution_count": 77,
   "metadata": {},
   "outputs": [
    {
     "name": "stdout",
     "output_type": "stream",
     "text": [
      "1 impressions have been simulated\n",
      "10001 impressions have been simulated\n",
      "20001 impressions have been simulated\n",
      "30001 impressions have been simulated\n",
      "40001 impressions have been simulated\n",
      "50001 impressions have been simulated\n",
      "60001 impressions have been simulated\n",
      "70001 impressions have been simulated\n",
      "80001 impressions have been simulated\n",
      "90001 impressions have been simulated\n",
      "100001 impressions have been simulated\n",
      "110001 impressions have been simulated\n",
      "120001 impressions have been simulated\n",
      "130001 impressions have been simulated\n",
      "140001 impressions have been simulated\n",
      "150001 impressions have been simulated\n",
      "160001 impressions have been simulated\n",
      "170001 impressions have been simulated\n",
      "180001 impressions have been simulated\n",
      "190001 impressions have been simulated\n"
     ]
    },
    {
     "data": {
      "text/plain": [
       "407.91813683509827"
      ]
     },
     "execution_count": 77,
     "metadata": {},
     "output_type": "execute_result"
    }
   ],
   "source": [
    "# seed for homework\n",
    "np.random.seed(seed=384758917)\n",
    "\n",
    "start = time.time()\n",
    "output_bernoulli = simulation(bernouli_strategy, n=200000)\n",
    "end = time.time()\n",
    "end - start"
   ]
  },
  {
   "cell_type": "code",
   "execution_count": 75,
   "metadata": {},
   "outputs": [
    {
     "data": {
      "text/plain": [
       "(1662.978266216189, 0.008314891331080945, 216)"
      ]
     },
     "execution_count": 75,
     "metadata": {},
     "output_type": "execute_result"
    }
   ],
   "source": [
    "# baseline regret\n",
    "output_bernoulli['regret'], output_bernoulli['regret']/output_bernoulli['rounds'],  output_bernoulli['total_banners']"
   ]
  },
  {
   "cell_type": "code",
   "execution_count": 36,
   "metadata": {},
   "outputs": [
    {
     "name": "stdout",
     "output_type": "stream",
     "text": [
      "1 impressions have been simulated\n",
      "10001 impressions have been simulated\n",
      "20001 impressions have been simulated\n",
      "30001 impressions have been simulated\n",
      "40001 impressions have been simulated\n",
      "50001 impressions have been simulated\n",
      "60001 impressions have been simulated\n",
      "70001 impressions have been simulated\n",
      "80001 impressions have been simulated\n",
      "90001 impressions have been simulated\n",
      "100001 impressions have been simulated\n",
      "110001 impressions have been simulated\n",
      "120001 impressions have been simulated\n",
      "130001 impressions have been simulated\n",
      "140001 impressions have been simulated\n",
      "150001 impressions have been simulated\n",
      "160001 impressions have been simulated\n",
      "170001 impressions have been simulated\n",
      "180001 impressions have been simulated\n",
      "190001 impressions have been simulated\n"
     ]
    },
    {
     "data": {
      "text/plain": [
       "460.8145442008972"
      ]
     },
     "execution_count": 36,
     "metadata": {},
     "output_type": "execute_result"
    }
   ],
   "source": [
    "# seed for homework\n",
    "np.random.seed(seed=384758917)\n",
    "\n",
    "start = time.time()\n",
    "output_ucb = simulation(UCB_random_strategy(), n=200000)\n",
    "end = time.time()\n",
    "end - start"
   ]
  },
  {
   "cell_type": "code",
   "execution_count": 37,
   "metadata": {},
   "outputs": [
    {
     "data": {
      "text/plain": [
       "(9157.451510862631, 0.045787257554313156, 175)"
      ]
     },
     "execution_count": 37,
     "metadata": {},
     "output_type": "execute_result"
    }
   ],
   "source": [
    "output_ucb['regret'], output_ucb['regret']/output_ucb['rounds'],  output_ucb['total_banners']"
   ]
  },
  {
   "cell_type": "code",
   "execution_count": 69,
   "metadata": {},
   "outputs": [
    {
     "name": "stdout",
     "output_type": "stream",
     "text": [
      "1 impressions have been simulated\n",
      "10001 impressions have been simulated\n",
      "20001 impressions have been simulated\n",
      "30001 impressions have been simulated\n",
      "40001 impressions have been simulated\n",
      "50001 impressions have been simulated\n",
      "60001 impressions have been simulated\n",
      "70001 impressions have been simulated\n",
      "80001 impressions have been simulated\n",
      "90001 impressions have been simulated\n",
      "100001 impressions have been simulated\n",
      "110001 impressions have been simulated\n",
      "120001 impressions have been simulated\n",
      "130001 impressions have been simulated\n",
      "140001 impressions have been simulated\n",
      "150001 impressions have been simulated\n",
      "160001 impressions have been simulated\n",
      "170001 impressions have been simulated\n",
      "180001 impressions have been simulated\n",
      "190001 impressions have been simulated\n"
     ]
    },
    {
     "data": {
      "text/plain": [
       "493.2178587913513"
      ]
     },
     "execution_count": 69,
     "metadata": {},
     "output_type": "execute_result"
    }
   ],
   "source": [
    "# seed for homework\n",
    "np.random.seed(seed=384758917)\n",
    "\n",
    "start = time.time()\n",
    "output_gaussian = simulation(normal_strategy, n=200000)\n",
    "end = time.time()\n",
    "end - start"
   ]
  },
  {
   "cell_type": "code",
   "execution_count": 70,
   "metadata": {},
   "outputs": [
    {
     "data": {
      "text/plain": [
       "(16196.556375302382, 0.08098278187651191, 183)"
      ]
     },
     "execution_count": 70,
     "metadata": {},
     "output_type": "execute_result"
    }
   ],
   "source": [
    "output_gaussian['regret'], output_gaussian['regret']/output_gaussian['rounds'],  output_gaussian['total_banners']"
   ]
  },
  {
   "cell_type": "code",
   "execution_count": null,
   "metadata": {},
   "outputs": [],
   "source": []
  }
 ],
 "metadata": {
  "kernelspec": {
   "display_name": "Python 3",
   "language": "python",
   "name": "python3"
  },
  "language_info": {
   "codemirror_mode": {
    "name": "ipython",
    "version": 3
   },
   "file_extension": ".py",
   "mimetype": "text/x-python",
   "name": "python",
   "nbconvert_exporter": "python",
   "pygments_lexer": "ipython3",
   "version": "3.8.10"
  }
 },
 "nbformat": 4,
 "nbformat_minor": 4
}
